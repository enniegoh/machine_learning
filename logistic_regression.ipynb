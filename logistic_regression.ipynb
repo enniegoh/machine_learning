{
 "cells": [
  {
   "cell_type": "markdown",
   "id": "a4f34e61",
   "metadata": {},
   "source": [
    "# Logistic Regression"
   ]
  },
  {
   "cell_type": "code",
   "execution_count": 1,
   "id": "da4d10cd",
   "metadata": {},
   "outputs": [],
   "source": [
    "import pandas as pd"
   ]
  },
  {
   "cell_type": "code",
   "execution_count": 2,
   "id": "205f6be0",
   "metadata": {},
   "outputs": [],
   "source": [
    "# import data\n",
    "data = pd.read_csv(\"toxicity.csv\", sep = \";\", header = None)"
   ]
  },
  {
   "cell_type": "code",
   "execution_count": 3,
   "id": "385dba72",
   "metadata": {},
   "outputs": [
    {
     "data": {
      "text/plain": [
       "<bound method DataFrame.info of       0     1     2     3     4     5     6     7     8     9     ...  1015  \\\n",
       "0        0     0     0     0     0     0     0     0     0     0  ...     0   \n",
       "1        0     0     1     0     0     0     0     0     0     0  ...     0   \n",
       "2        0     0     0     0     0     0     0     0     0     0  ...     0   \n",
       "3        0     0     0     0     0     0     0     1     0     0  ...     0   \n",
       "4        0     0     0     0     0     0     0     0     0     0  ...     0   \n",
       "...    ...   ...   ...   ...   ...   ...   ...   ...   ...   ...  ...   ...   \n",
       "8987     0     0     0     0     0     0     0     1     0     0  ...     0   \n",
       "8988     0     1     0     0     0     1     0     1     0     0  ...     0   \n",
       "8989     0     0     0     0     0     0     0     1     0     0  ...     0   \n",
       "8990     0     0     0     0     0     0     0     0     0     0  ...     0   \n",
       "8991     0     0     1     0     0     0     0     0     0     0  ...     1   \n",
       "\n",
       "      1016  1017  1018  1019  1020  1021  1022  1023      1024  \n",
       "0        0     0     0     0     0     0     0     0  negative  \n",
       "1        0     0     0     0     0     0     0     0  negative  \n",
       "2        0     1     0     0     0     0     0     0  negative  \n",
       "3        0     0     0     0     0     0     0     0  negative  \n",
       "4        0     0     0     0     0     0     0     0  negative  \n",
       "...    ...   ...   ...   ...   ...   ...   ...   ...       ...  \n",
       "8987     0     0     1     0     0     0     0     0  negative  \n",
       "8988     0     0     1     0     0     0     0     0  negative  \n",
       "8989     0     0     0     0     0     0     1     0  negative  \n",
       "8990     0     0     0     0     0     0     0     0  negative  \n",
       "8991     0     0     0     0     0     0     0     0  negative  \n",
       "\n",
       "[8992 rows x 1025 columns]>"
      ]
     },
     "execution_count": 3,
     "metadata": {},
     "output_type": "execute_result"
    }
   ],
   "source": [
    "data.info"
   ]
  },
  {
   "cell_type": "code",
   "execution_count": 4,
   "id": "7a962832",
   "metadata": {},
   "outputs": [],
   "source": [
    "# encoding\n",
    "data[1024] = data[1024].map({\"negative\": 0, \"positive\": 1})"
   ]
  },
  {
   "cell_type": "code",
   "execution_count": 5,
   "id": "d2b29dab",
   "metadata": {},
   "outputs": [
    {
     "data": {
      "text/plain": [
       "<bound method DataFrame.info of       0     1     2     3     4     5     6     7     8     9     ...  1015  \\\n",
       "0        0     0     0     0     0     0     0     0     0     0  ...     0   \n",
       "1        0     0     1     0     0     0     0     0     0     0  ...     0   \n",
       "2        0     0     0     0     0     0     0     0     0     0  ...     0   \n",
       "3        0     0     0     0     0     0     0     1     0     0  ...     0   \n",
       "4        0     0     0     0     0     0     0     0     0     0  ...     0   \n",
       "...    ...   ...   ...   ...   ...   ...   ...   ...   ...   ...  ...   ...   \n",
       "8987     0     0     0     0     0     0     0     1     0     0  ...     0   \n",
       "8988     0     1     0     0     0     1     0     1     0     0  ...     0   \n",
       "8989     0     0     0     0     0     0     0     1     0     0  ...     0   \n",
       "8990     0     0     0     0     0     0     0     0     0     0  ...     0   \n",
       "8991     0     0     1     0     0     0     0     0     0     0  ...     1   \n",
       "\n",
       "      1016  1017  1018  1019  1020  1021  1022  1023  1024  \n",
       "0        0     0     0     0     0     0     0     0     0  \n",
       "1        0     0     0     0     0     0     0     0     0  \n",
       "2        0     1     0     0     0     0     0     0     0  \n",
       "3        0     0     0     0     0     0     0     0     0  \n",
       "4        0     0     0     0     0     0     0     0     0  \n",
       "...    ...   ...   ...   ...   ...   ...   ...   ...   ...  \n",
       "8987     0     0     1     0     0     0     0     0     0  \n",
       "8988     0     0     1     0     0     0     0     0     0  \n",
       "8989     0     0     0     0     0     0     1     0     0  \n",
       "8990     0     0     0     0     0     0     0     0     0  \n",
       "8991     0     0     0     0     0     0     0     0     0  \n",
       "\n",
       "[8992 rows x 1025 columns]>"
      ]
     },
     "execution_count": 5,
     "metadata": {},
     "output_type": "execute_result"
    }
   ],
   "source": [
    "data.info"
   ]
  },
  {
   "cell_type": "code",
   "execution_count": 6,
   "id": "c8463593",
   "metadata": {},
   "outputs": [
    {
     "name": "stdout",
     "output_type": "stream",
     "text": [
      "8992\n",
      "1024\n"
     ]
    }
   ],
   "source": [
    "num_observations = data.shape[0]\n",
    "num_features = data.shape[1] - 1\n",
    "\n",
    "print(num_observations)\n",
    "print(num_features)"
   ]
  },
  {
   "cell_type": "code",
   "execution_count": 24,
   "id": "fc08cce2",
   "metadata": {},
   "outputs": [],
   "source": [
    "from sklearn.metrics import accuracy_score, confusion_matrix, classification_report\n",
    "\n",
    "def print_score(clf, X_train, y_train, X_test, y_text, train = True):\n",
    "    if train:\n",
    "        pred = clf.predict(X_train)\n",
    "        clf_report = pd.DataFrame(classification_report(y_train, pred, output_dict = True))\n",
    "        print(\"Train Result:\\n===========================================================\")\n",
    "        print(f\"Accuracy Score: {accuracy_score(y_train, pred) * 100:.2f}%\")\n",
    "        print(\"--------------------------------------------------------------------------\")\n",
    "        print(f\"CLASSIFICATION REPORT:\\n{clf_report}\")\n",
    "        print(\"--------------------------------------------------------------------------\")\n",
    "        print(f\"Confusion Matrix:\\n {confusion_matrix(y_train, pred)}\")\n",
    "        train_error_rate = 1 - accuracy_score(y_train, pred)\n",
    "        print(f\"Train Error Rate: {train_error_rate * 100:.2f}%\\n\\n\")\n",
    "        \n",
    "    elif train == False:\n",
    "        pred = clf.predict(X_test)\n",
    "        clf_report = pd.DataFrame(classification_report(y_test, pred, output_dict = True))\n",
    "        print(\"Test Result:\\n============================================================\")\n",
    "        print(f\"Accuracy Score: {accuracy_score(y_test, pred) * 100:2f}%\")\n",
    "        print(\"--------------------------------------------------------------------------\")\n",
    "        print(f\"CLASSIFICATION REPORT:\\n{clf_report}\")\n",
    "        print(\"--------------------------------------------------------------------------\")\n",
    "        print(f\"Confusion Matrix: \\n {confusion_matrix(y_test, pred)}\")\n",
    "        test_error_rate = 1 - accuracy_score(y_test, pred)\n",
    "        print(f\"Test Error Rate: {test_error_rate * 100:.2f}%\\n\")"
   ]
  },
  {
   "cell_type": "code",
   "execution_count": 27,
   "id": "d4e921ec",
   "metadata": {},
   "outputs": [],
   "source": [
    "# split dataset into train and test data\n",
    "from sklearn.preprocessing import StandardScaler, MinMaxScaler, OrdinalEncoder\n",
    "from sklearn.compose import make_column_transformer\n",
    "from sklearn.model_selection import train_test_split\n",
    "\n",
    "X = data.iloc[:, :-1]\n",
    "y = data.iloc[:, -1]\n",
    "\n",
    "X_train, X_test, y_train, y_test = train_test_split(X, y, test_size = 0.2, random_state = 42)"
   ]
  },
  {
   "cell_type": "code",
   "execution_count": 28,
   "id": "5f939968",
   "metadata": {
    "scrolled": false
   },
   "outputs": [
    {
     "name": "stdout",
     "output_type": "stream",
     "text": [
      "Train Result:\n",
      "===========================================================\n",
      "Accuracy Score: 96.50%\n",
      "--------------------------------------------------------------------------\n",
      "CLASSIFICATION REPORT:\n",
      "                     0           1  accuracy    macro avg  weighted avg\n",
      "precision     0.969706    0.889671  0.964966     0.929689      0.963208\n",
      "recall        0.992888    0.648973  0.964966     0.820931      0.964966\n",
      "f1-score      0.981160    0.750495  0.964966     0.865828      0.962433\n",
      "support    6609.000000  584.000000  0.964966  7193.000000   7193.000000\n",
      "--------------------------------------------------------------------------\n",
      "Confusion Matrix:\n",
      " [[6562   47]\n",
      " [ 205  379]]\n",
      "Train Error Rate: 3.50%\n",
      "\n",
      "\n",
      "Test Result:\n",
      "============================================================\n",
      "Accuracy Score: 91.828794%\n",
      "--------------------------------------------------------------------------\n",
      "CLASSIFICATION REPORT:\n",
      "                     0           1  accuracy    macro avg  weighted avg\n",
      "precision     0.944147    0.543103  0.918288     0.743625      0.909148\n",
      "recall        0.967722    0.401274  0.918288     0.684498      0.918288\n",
      "f1-score      0.955789    0.461538  0.918288     0.708664      0.912656\n",
      "support    1642.000000  157.000000  0.918288  1799.000000   1799.000000\n",
      "--------------------------------------------------------------------------\n",
      "Confusion Matrix: \n",
      " [[1589   53]\n",
      " [  94   63]]\n",
      "Test Error Rate: 8.17%\n",
      "\n"
     ]
    }
   ],
   "source": [
    "# logistic regression\n",
    "from sklearn.linear_model import LogisticRegression\n",
    "\n",
    "lr_clf = LogisticRegression(solver = 'liblinear')\n",
    "lr_clf.fit(X_train, y_train)\n",
    "\n",
    "print_score(lr_clf, X_train, y_train, X_test, y_test, train = True)\n",
    "print_score(lr_clf, X_train, y_train, X_test, y_test, train = False)"
   ]
  },
  {
   "cell_type": "code",
   "execution_count": 69,
   "id": "1628992f",
   "metadata": {
    "scrolled": false
   },
   "outputs": [
    {
     "data": {
      "image/png": "[encoded data removed]",
      "text/plain": [
       "<Figure size 640x480 with 1 Axes>"
      ]
     },
     "metadata": {},
     "output_type": "display_data"
    }
   ],
   "source": [
    "import seaborn as sns\n",
    "import matplotlib.pyplot as plt\n",
    "\n",
    "sns.scatterplot(x = data[0], y = data[1024])\n",
    "plt.show()"
   ]
  },
  {
   "cell_type": "code",
   "execution_count": 71,
   "id": "ae0b8ced",
   "metadata": {},
   "outputs": [
    {
     "name": "stdout",
     "output_type": "stream",
     "text": [
      "Confusion Matrix (LDA):\n",
      "[[1589   53]\n",
      " [  81   76]]\n"
     ]
    }
   ],
   "source": [
    "# lda\n",
    "from sklearn.model_selection import train_test_split\n",
    "from sklearn.discriminant_analysis import LinearDiscriminantAnalysis\n",
    "\n",
    "X = data.iloc[:, :-1]\n",
    "y = data.iloc[:, -1]\n",
    "\n",
    "# Assuming your dataset is stored in 'X' and the corresponding class labels in 'y'\n",
    "X_train, X_test, y_train, y_test = train_test_split(X, y, test_size=0.2, random_state=42)\n",
    "\n",
    "lda = LinearDiscriminantAnalysis()\n",
    "\n",
    "# Fit the LDA model to the training data\n",
    "lda.fit(X_train, y_train)\n",
    "\n",
    "# Predict class labels for the test data\n",
    "y_pred_lda = lda.predict(X_test)\n",
    "\n",
    "# Compute the confusion matrix\n",
    "cm_lda = confusion_matrix(y_test, y_pred_lda)\n",
    "print(\"Confusion Matrix (LDA):\")\n",
    "print(cm_lda)"
   ]
  },
  {
   "cell_type": "code",
   "execution_count": 72,
   "id": "9e0b2955",
   "metadata": {},
   "outputs": [
    {
     "name": "stdout",
     "output_type": "stream",
     "text": [
      "Confusion Matrix (QDA):\n",
      "[[1641    1]\n",
      " [ 154    3]]\n"
     ]
    },
    {
     "name": "stderr",
     "output_type": "stream",
     "text": [
      "C:\\Users\\User\\anaconda3\\lib\\site-packages\\sklearn\\discriminant_analysis.py:878: UserWarning: Variables are collinear\n",
      "  warnings.warn(\"Variables are collinear\")\n"
     ]
    }
   ],
   "source": [
    "# qda\n",
    "from sklearn.model_selection import train_test_split\n",
    "from sklearn.discriminant_analysis import QuadraticDiscriminantAnalysis\n",
    "\n",
    "X = data.iloc[:, :-1]\n",
    "y = data.iloc[:, -1]\n",
    "\n",
    "# Assuming your dataset is stored in 'X' and the corresponding class labels in 'y'\n",
    "X_train, X_test, y_train, y_test = train_test_split(X, y, test_size=0.2, random_state=42)\n",
    "\n",
    "qda = QuadraticDiscriminantAnalysis()\n",
    "\n",
    "# Fit the QDA model to the training data\n",
    "qda.fit(X_train, y_train)\n",
    "\n",
    "# Predict class labels for the test data\n",
    "y_pred_qda = qda.predict(X_test)\n",
    "\n",
    "# Compute the confusion matrix\n",
    "cm_qda = confusion_matrix(y_test, y_pred_qda)\n",
    "print(\"Confusion Matrix (QDA):\")\n",
    "print(cm_qda)"
   ]
  }
 ],
 "metadata": {
  "kernelspec": {
   "display_name": "Python 3 (ipykernel)",
   "language": "python",
   "name": "python3"
  },
  "language_info": {
   "codemirror_mode": {
    "name": "ipython",
    "version": 3
   },
   "file_extension": ".py",
   "mimetype": "text/x-python",
   "name": "python",
   "nbconvert_exporter": "python",
   "pygments_lexer": "ipython3",
   "version": "3.9.13"
  }
 },
 "nbformat": 4,
 "nbformat_minor": 5
}
